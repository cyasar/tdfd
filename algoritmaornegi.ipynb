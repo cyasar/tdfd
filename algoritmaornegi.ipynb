{
 "cells": [
  {
   "cell_type": "code",
   "execution_count": 1,
   "id": "cd604c0f-5c2b-4e52-94a1-f102c0bd1442",
   "metadata": {},
   "outputs": [
    {
     "name": "stdout",
     "output_type": "stream",
     "text": [
      "Hash: 91948027255562969924518330328351384045144912894868648528790702803489468359097\n",
      "İmza: ((4.714143528054685+92.43017241687527j), (70+57j))\n",
      "İmza geçersiz.\n"
     ]
    }
   ],
   "source": [
    "import hashlib\n",
    "import cmath\n",
    "\n",
    "# Karmaşık sayılar için modüler işlem tanımlama\n",
    "def complex_mod(a, m):\n",
    "    real_mod = a.real % m.real\n",
    "    imag_mod = a.imag % m.real\n",
    "    return complex(real_mod, imag_mod)\n",
    "\n",
    "# Karmaşık sayılar için modüler ters işlem tanımlama\n",
    "def complex_mod_inverse(a, m):\n",
    "    a_real = int(a.real)\n",
    "    a_imag = int(a.imag)\n",
    "    m_real = int(m.real)\n",
    "    \n",
    "    real_inv = pow(a_real, -1, m_real)\n",
    "    imag_inv = pow(a_imag, -1, m_real)\n",
    "    return complex(real_inv, imag_inv)\n",
    "\n",
    "# Anahtar üretimi\n",
    "g = complex(2, 3)\n",
    "p = complex(97, 0) # Örnek karmaşık sayı modülü\n",
    "a = complex(5, 4) # Alice'in özel anahtarı\n",
    "\n",
    "A = complex_mod(g**a, p) # Alice'in genel anahtarı\n",
    "\n",
    "# İmza oluşturma\n",
    "m = \"Merhaba, bu bir örnek mesajdır.\"\n",
    "k = complex(3, 2)\n",
    "\n",
    "r = complex_mod(g**k, p)\n",
    "h = int(hashlib.sha256(m.encode('utf-8')).hexdigest(), 16)\n",
    "print(\"Hash:\",h)\n",
    "s = complex_mod((h - a * r) * complex_mod_inverse(k, p), p)\n",
    "\n",
    "signature = (r, s)\n",
    "print(f\"İmza: {signature}\")\n",
    "\n",
    "# İmza doğrulama\n",
    "h2 = int(hashlib.sha256(m.encode('utf-8')).hexdigest(), 16)\n",
    "\n",
    "u1 = complex_mod(h2 * complex_mod_inverse(s, p), p)\n",
    "u2 = complex_mod(r * complex_mod_inverse(s, p), p)\n",
    "\n",
    "v = complex_mod(g**u1 * A**u2, p)\n",
    "\n",
    "if v == r:\n",
    "    print(\"İmza geçerli.\")\n",
    "else:\n",
    "    print(\"İmza geçersiz.\")\n"
   ]
  },
  {
   "cell_type": "code",
   "execution_count": 2,
   "id": "ec449f00-023d-40a2-99c7-bec6b1211797",
   "metadata": {},
   "outputs": [
    {
     "name": "stdout",
     "output_type": "stream",
     "text": [
      "Alice'in genel anahtarı (A): (87.26328549041116+90.06224863907002j)\n",
      "İmza: ((4.714143528054685+92.43017241687527j), (70+57j))\n",
      "Doğrulama değeri (v): (42+75j)\n",
      "İmza geçersiz.\n"
     ]
    }
   ],
   "source": [
    "import hashlib\n",
    "import cmath\n",
    "\n",
    "# Karmaşık sayılar için modüler işlem tanımlama\n",
    "def complex_mod(a, m):\n",
    "    real_mod = a.real % m.real\n",
    "    imag_mod = a.imag % m.real\n",
    "    return complex(real_mod, imag_mod)\n",
    "\n",
    "# Karmaşık sayılar için modüler ters işlem tanımlama\n",
    "def complex_mod_inverse(a, m):\n",
    "    a_real = int(a.real)\n",
    "    a_imag = int(a.imag)\n",
    "    m_real = int(m.real)\n",
    "    \n",
    "    real_inv = pow(a_real, -1, m_real)\n",
    "    imag_inv = pow(a_imag, -1, m_real)\n",
    "    return complex(real_inv, imag_inv)\n",
    "\n",
    "# Anahtar üretimi\n",
    "g = complex(2, 3)\n",
    "p = complex(97, 0) # Örnek karmaşık sayı modülü\n",
    "a = complex(5, 4) # Alice'in özel anahtarı\n",
    "\n",
    "A = complex_mod(g**a, p) # Alice'in genel anahtarı\n",
    "print(f\"Alice'in genel anahtarı (A): {A}\")\n",
    "\n",
    "# İmza oluşturma\n",
    "m = \"Merhaba, bu bir örnek mesajdır.\"\n",
    "k = complex(3, 2)\n",
    "\n",
    "r = complex_mod(g**k, p)\n",
    "h = int(hashlib.sha256(m.encode('utf-8')).hexdigest(), 16)\n",
    "\n",
    "s = complex_mod((h - a * r) * complex_mod_inverse(k, p), p)\n",
    "\n",
    "signature = (r, s)\n",
    "print(f\"İmza: {signature}\")\n",
    "\n",
    "# İmza doğrulama\n",
    "h2 = int(hashlib.sha256(m.encode('utf-8')).hexdigest(), 16)\n",
    "\n",
    "u1 = complex_mod(h2 * complex_mod_inverse(s, p), p)\n",
    "u2 = complex_mod(r * complex_mod_inverse(s, p), p)\n",
    "\n",
    "v = complex_mod(g**u1 * A**u2, p)\n",
    "print(f\"Doğrulama değeri (v): {v}\")\n",
    "\n",
    "if v == r:\n",
    "    print(\"İmza geçerli.\")\n",
    "else:\n",
    "    print(\"İmza geçersiz.\")\n"
   ]
  },
  {
   "cell_type": "code",
   "execution_count": null,
   "id": "8a4159ad-366e-4586-ae46-88a8eae23092",
   "metadata": {},
   "outputs": [],
   "source": []
  },
  {
   "cell_type": "code",
   "execution_count": null,
   "id": "9c0f8706-542a-4715-8204-b834567bfa50",
   "metadata": {},
   "outputs": [],
   "source": []
  }
 ],
 "metadata": {
  "kernelspec": {
   "display_name": "Python 3 (ipykernel)",
   "language": "python",
   "name": "python3"
  },
  "language_info": {
   "codemirror_mode": {
    "name": "ipython",
    "version": 3
   },
   "file_extension": ".py",
   "mimetype": "text/x-python",
   "name": "python",
   "nbconvert_exporter": "python",
   "pygments_lexer": "ipython3",
   "version": "3.12.2"
  }
 },
 "nbformat": 4,
 "nbformat_minor": 5
}
