{
 "cells": [
  {
   "cell_type": "code",
   "execution_count": 1,
   "id": "31a64c74-6d91-4a53-abbe-b09911cfe416",
   "metadata": {},
   "outputs": [],
   "source": [
    "import numpy"
   ]
  },
  {
   "cell_type": "markdown",
   "id": "e705f442-4bd1-4dba-8851-f9cb7bef5d22",
   "metadata": {},
   "source": [
    "### Aşağıdaki metot ile Numpy karmaşık sayıları oluşturulabilir. "
   ]
  },
  {
   "cell_type": "code",
   "execution_count": 2,
   "id": "df3e6e33-aff1-48e8-8f6c-62bc4675ddfc",
   "metadata": {},
   "outputs": [],
   "source": [
    "# This value changes the floating point precise bits in Numpy complex values.\n",
    "# Use only 64, 128 or 256 bit for options.\n",
    "using_complex_bits = 128\n",
    "\n",
    "def c(*args, **kwargs) -> numpy.complexfloating:\n",
    "    \"\"\"\n",
    "    Creates Numpy complex values.\n",
    "        \n",
    "    Example:\n",
    "    ==============================================\n",
    "        c(1 + 1j)\n",
    "        c(10 + x*1j)\n",
    "    \"\"\"\n",
    "    \n",
    "    if using_complex_bits == 64:\n",
    "        v = numpy.complex64(*args, **kwargs)\n",
    "    elif using_complex_bits == 128:\n",
    "        v = numpy.complex128(*args, **kwargs)\n",
    "    elif using_complex_bits == 256:\n",
    "        v = numpy.complex256(*args, **kwargs)\n",
    "    else:\n",
    "        raise ValueError(f\"{using_complex_bits} is not supported in Numpy for complex bits!\")\n",
    "    return v"
   ]
  },
  {
   "cell_type": "markdown",
   "id": "12aeb729-06c0-467e-8215-6566f463f4cf",
   "metadata": {},
   "source": [
    "### Karmaşık sayıların modunu almaktadır. Bu kodda mod integer olmalıdır. Aynı zamanda bir karmaşık sayısının modunun pozitif denkliklerini bulan kod bulunmaktadır."
   ]
  },
  {
   "cell_type": "code",
   "execution_count": 3,
   "id": "cec58423-14d0-45f5-a0fc-fc5c50db2120",
   "metadata": {},
   "outputs": [],
   "source": [
    "def mod_complex(z: numpy.complexfloating, m: int) -> numpy.complexfloating:\n",
    "    \"\"\"\n",
    "    Calculates the a+bi(modk).\n",
    "    z: Complex value\n",
    "    m: Module\n",
    "    \"\"\"\n",
    "        \n",
    "    x = z/m\n",
    "    x = (numpy.round(x.real) + (numpy.round(x.imag)*1j))*m\n",
    "    return z-x\n",
    "\n",
    "def mod_complex_positive(z: numpy.complexfloating, m: int) -> numpy.complexfloating:\n",
    "    \"\"\"\n",
    "    Translates negative complex value to modulo of positive ones. \n",
    "    \"\"\"\n",
    "    \n",
    "    real, imag = z.real, z.imag\n",
    "    if z.imag < 0:\n",
    "        imag = (z.imag + m)\n",
    "    if z.real < 0:\n",
    "        real = z.real + m\n",
    "    return c(real + imag*1j)\n",
    "    \n",
    "def mod_complex_apply(z: numpy.ndarray, m: int) -> numpy.ndarray:\n",
    "    \"\"\"\n",
    "    Applies complex mod to all matrix elements.\n",
    "    \"\"\"\n",
    "    \n",
    "    return numpy.vectorize(mod_complex)(z, m)\n",
    "\n",
    "def mod_complex_positive_apply(z: numpy.ndarray, m: int) -> numpy.ndarray:\n",
    "    \"\"\"\n",
    "    Translates positive modulo of all item on complex matrix.\n",
    "    \"\"\"\n",
    "    \n",
    "    return numpy.vectorize(mod_complex_positive)(z, m)"
   ]
  },
  {
   "cell_type": "markdown",
   "id": "760c6f06-5416-43cc-a1c4-161dc65133d6",
   "metadata": {},
   "source": [
    "### Alfabe karakterleri için dönüşüm tablosu bulunmaktadır."
   ]
  },
  {
   "cell_type": "code",
   "execution_count": 4,
   "id": "c938af10-959a-41aa-93af-93bc9aeb8b6b",
   "metadata": {},
   "outputs": [],
   "source": [
    "# This conversion table used for encryption of chars.\n",
    "__conversion_table = {\n",
    "    \"A\": 1, \"B\": 2, \"C\": 3, \"D\": 4, \n",
    "    \"E\": 5, \"F\": 6, \"G\": 7, \"H\": 8, \n",
    "    \"I\": 9, \"J\": 10, \"K\": 11, \"L\": 12, \n",
    "    \"M\": 13, \"N\": 14, \"O\": 15, \"P\": 16, \n",
    "    \"Q\": 17, \"R\": 18, \"S\": 19, \"T\": 20,\n",
    "    \"U\": 21, \"V\": 22, \"W\": 23, \"X\": 24, \n",
    "    \"Y\": 25, \"Z\": 0\n",
    "}\n",
    "\n",
    "def table_length() -> int:\n",
    "    return __conversion_table.__len__()\n",
    "\n",
    "def get_key(char: str) -> int:\n",
    "    \"\"\"\n",
    "    Gets the key of the char.\n",
    "    \"\"\"\n",
    "    \n",
    "    try:\n",
    "        v = __conversion_table[char]\n",
    "    except KeyError:\n",
    "        raise KeyError(f\"Char {char} is not in conversion table!\")\n",
    "    return v\n",
    "\n",
    "def get_value(val: int) -> str:\n",
    "    \"\"\"\n",
    "    Gets the key of int from dict.\n",
    "    \"\"\"\n",
    "    \n",
    "    try:\n",
    "        c = list(__conversion_table.keys())[list(__conversion_table.values()).index(val)]\n",
    "    except KeyError or ValueError:\n",
    "        raise AttributeError(f\"Value {val} is not in the conversion table.\")\n",
    "    return c"
   ]
  },
  {
   "cell_type": "markdown",
   "id": "3f77e4f3-2edc-4f47-9fa2-f2652dde4ac0",
   "metadata": {},
   "source": [
    "### Aşağıdaki metot bir metinin karmaşık sayı matrisine halinde kodlanmasını yapmaktadır."
   ]
  },
  {
   "cell_type": "code",
   "execution_count": 5,
   "id": "16865544-1e16-457d-b338-5f61833f50e0",
   "metadata": {},
   "outputs": [],
   "source": [
    "def create_enc_complex_matrix(message: str) -> numpy.ndarray:\n",
    "    \"\"\"\n",
    "    Creates the encrypted complex matrix P from message.\n",
    "    \"\"\"\n",
    "    \n",
    "    # Format the message.\n",
    "    message = message.upper()\n",
    "    message = message.replace(\" \", \"\")\n",
    "    complex_list = list()\n",
    "    \n",
    "    # Creates list of complex values.\n",
    "    # If message length is single add an \"0j\" to end.\n",
    "    for m in range(0, message.__len__(), 2):\n",
    "        _r = get_key(message[m])\n",
    "        try:\n",
    "            _c = get_key(message[m+1])\n",
    "        except KeyError:\n",
    "            _c = 0\n",
    "            print(\"Message length is not single. Adding a 0j in the end.\")\n",
    "        _cpx = c(_r + _c*1j)\n",
    "        complex_list.append(_cpx)\n",
    "        \n",
    "    P = numpy.array(complex_list).reshape(2, int(complex_list.__len__()/2))\n",
    "    return P"
   ]
  },
  {
   "cell_type": "markdown",
   "id": "2932cb89-5ff9-4a05-8a29-9acd76c7d680",
   "metadata": {},
   "source": [
    "### Aşağıdaki metot yardımıyla yukarıdaki metot ile matris halinde kodlanmış metini çözer."
   ]
  },
  {
   "cell_type": "code",
   "execution_count": 6,
   "id": "cc784ec2-0c6a-400d-a4ad-58b0e2ae977f",
   "metadata": {},
   "outputs": [],
   "source": [
    "def decipher_enc_complex_matrix(matrix: numpy.ndarray) -> str:\n",
    "    \"\"\"\n",
    "    Deciphers encrypted complex matrtix that created function from \"create_enc_complex_matrix\"\n",
    "    \"\"\"\n",
    "    \n",
    "    s = str()\n",
    "    for i in range(matrix.__len__()):\n",
    "        for j in range(matrix[i].__len__()):\n",
    "            _r = get_value(matrix[i][j].real)\n",
    "            _c = get_value(matrix[i][j].imag)\n",
    "            s += _r + _c\n",
    "    return s"
   ]
  },
  {
   "cell_type": "markdown",
   "id": "0302914c-d4c7-4cff-b963-0039ab247e2c",
   "metadata": {},
   "source": [
    "### Bir 2x2 karmaşık sayı matrisinin determinantının ve coefficent matrisinin modunu bulur.  "
   ]
  },
  {
   "cell_type": "code",
   "execution_count": 7,
   "id": "073f0718-f572-43f4-b82a-dfb76fd2b38f",
   "metadata": {},
   "outputs": [],
   "source": [
    "def inverse_of_determinant_mod(complex_matrix: numpy.ndarray, modulo: int) -> numpy.complexfloating:\n",
    "    \"\"\"\n",
    "    This method calculates inverse of [det(K)] in mod.\n",
    "    \n",
    "    Returns:\n",
    "        Inverse of det(K), coefficent matrix.\n",
    "        \n",
    "    Notes:\n",
    "        This function works if matrix 2x2.\n",
    "    \"\"\"\n",
    "    \n",
    "    z = numpy.linalg.det(complex_matrix)\n",
    "    z = mod_complex(z, modulo)\n",
    "    a, b = z.real, z.imag\n",
    "    e = (numpy.power(a, 2) + numpy.power(b, 2))%modulo\n",
    "    \n",
    "    # Cheap way to calculate inverse of number in a spesific modulo.\n",
    "    t = 0\n",
    "    for i in range(1, 100):        \n",
    "        _e = numpy.power(e, i)%modulo\n",
    "        if _e == 1.0:\n",
    "            break\n",
    "        t = _e\n",
    "    \n",
    "    if t == 0:\n",
    "        raise ValueError(\"Frequency of number in module calculation failed.\")\n",
    "        \n",
    "    _c = (a*t)%modulo\n",
    "    _d = (-b*t)%modulo\n",
    "    coefficent = numpy.array([\n",
    "        [complex_matrix[1][1], -complex_matrix[0][1]], [-complex_matrix[1][0], complex_matrix[0][0]]]\n",
    "    )\n",
    "    return c(_c + _d*1j), coefficent"
   ]
  },
  {
   "cell_type": "markdown",
   "id": "34064c8e-ff5c-41b9-a3b5-0b57ee371f04",
   "metadata": {},
   "source": [
    "### Mesaj bu metot ile kodlanmaktadır. Mesaj gönderen taraf bu metot ile mesajını şifreler ve şifrelenmiş mesaj geri döner."
   ]
  },
  {
   "cell_type": "code",
   "execution_count": 8,
   "id": "688aaf9e-affe-457a-8796-787c2bc0ac60",
   "metadata": {},
   "outputs": [],
   "source": [
    "def encryipt_message(message: str, modulo: int, shared_key: numpy.ndarray) -> str:\n",
    "    \"\"\"\n",
    "    Encryipts the message.\n",
    "    \n",
    "    Args:\n",
    "        message: Message to encryipt.\n",
    "        modulo: Modulo.(Length of table)\n",
    "        shared_key: Key K.\n",
    "    \"\"\"\n",
    "    \n",
    "    # Create a complex matrix from message. \n",
    "    P = create_enc_complex_matrix(message)\n",
    "    print(f\"Encrypted Complex Matrix: \\n {P}\")\n",
    "    \n",
    "    # Create C=KP(mod(modulo)). \n",
    "    # And Make sure everyone has positive modulo.\n",
    "    C = mod_complex_apply(shared_key.dot(P), modulo)\n",
    "    C = mod_complex_positive_apply(C, modulo)\n",
    "    print(f\"Created C matrix as: \\n{C}\")\n",
    "    \n",
    "    enc_message = decipher_enc_complex_matrix(C)\n",
    "    print(f\"Encrypted message as: {enc_message}\")\n",
    "    return enc_message"
   ]
  },
  {
   "cell_type": "markdown",
   "id": "ac2ae59a-1a66-4a4e-8d81-1f62b28f2998",
   "metadata": {},
   "source": [
    "### Alıcı aşağıdaki metot ile şifrelenmiş mesajı çözer."
   ]
  },
  {
   "cell_type": "code",
   "execution_count": 9,
   "id": "0005631e-e3d8-4850-b957-84930c6d8ea0",
   "metadata": {
    "tags": []
   },
   "outputs": [],
   "source": [
    "def decrypt_message(shared_key: numpy.ndarray, modulo: int, enc_message: str):\n",
    "    \"\"\"\n",
    "    Decrypts the crypted message.\n",
    "    Args:\n",
    "        shared_key: K\n",
    "        modulo: mod\n",
    "        enc_message: Encrypted message.\n",
    "    \"\"\"\n",
    "    \n",
    "    idm, coefficent = inverse_of_determinant_mod(shared_key, modulo)\n",
    "    inv_K = mod_complex_positive_apply(mod_complex_apply(idm*coefficent, modulo), modulo)\n",
    "    print(f\"Inverse of K(mod): \\n{inv_K}\")\n",
    "    C = create_enc_complex_matrix(enc_message)\n",
    "    P = inv_K.dot(C)\n",
    "    P = mod_complex_apply(P, modulo)\n",
    "    P = mod_complex_positive_apply(P, modulo)\n",
    "    return decipher_enc_complex_matrix(P)"
   ]
  },
  {
   "cell_type": "markdown",
   "id": "b0853421-7478-4d53-a4c2-4106e7629967",
   "metadata": {},
   "source": [
    "## **Adım 1**\n",
    "### Aşağıdaki kodlar ile iletişim protokolü başlamadan önce anahtar K seçilmesi ve mod hesaplaması yapılır."
   ]
  },
  {
   "cell_type": "code",
   "execution_count": 10,
   "id": "78c27d47-919e-42d1-817a-ebf77e476b0b",
   "metadata": {},
   "outputs": [
    {
     "name": "stdout",
     "output_type": "stream",
     "text": [
      "Used modulo for entire algorithm: 26\n",
      "Inverse determinant of complex matrix K in module: 7j\n",
      "Coefficent of complex matrix K: \n",
      "[[ 3.+2.j -5.-1.j]\n",
      " [-7.-4.j  3.+2.j]]\n",
      "Alice and Bob shared complex key: \n",
      "[[3.+2.j 5.+1.j]\n",
      " [7.+4.j 3.+2.j]]\n"
     ]
    }
   ],
   "source": [
    "# Shared key K and module value.\n",
    "K = numpy.array([\n",
    "    [c(3 + 2j), c(5 + 1j)], \n",
    "    [c(7 + 4j), c(3 + 2j)]\n",
    "])\n",
    "\n",
    "modulo = table_length()\n",
    "idm, coefficent = inverse_of_determinant_mod(K, modulo)\n",
    "\n",
    "print(f\"Used modulo for entire algorithm: {modulo}\")\n",
    "print(f\"Inverse determinant of complex matrix K in module: {idm}\")\n",
    "print(f\"Coefficent of complex matrix K: \\n{coefficent}\")\n",
    "print(f\"Alice and Bob shared complex key: \\n{K}\")"
   ]
  },
  {
   "cell_type": "markdown",
   "id": "c0346d5b-149c-4d22-863b-68fcf98be0c2",
   "metadata": {},
   "source": [
    "## **Adım 2**\n",
    "### Alice ile Bob arasında iletişim protokolü başlar. Gönderici mesajı şifrelemektedir."
   ]
  },
  {
   "cell_type": "code",
   "execution_count": 11,
   "id": "8278df3f-2471-48fa-8a83-aeaf36d7b927",
   "metadata": {},
   "outputs": [
    {
     "name": "stdout",
     "output_type": "stream",
     "text": [
      "Message: Canakkale Onsekiz\n",
      "Encrypted Complex Matrix: \n",
      " [[ 3. +1.j 14. +1.j 11.+11.j  1.+12.j]\n",
      " [ 5.+15.j 14.+19.j  5.+11.j  9. +0.j]]\n",
      "Created C matrix as: \n",
      "[[17.+11.j 13.+10.j 25.+11.j 24.+21.j]\n",
      " [ 2.+22.j 20.+18.j  0. +8.j 12. +2.j]]\n",
      "Encrypted message as: QKMJYKXUBVTRZHLB\n"
     ]
    }
   ],
   "source": [
    "message = \"Canakkale Onsekiz\"\n",
    "print(f\"Message: {message}\")\n",
    "enc_message = encryipt_message(message, modulo, K)"
   ]
  },
  {
   "cell_type": "markdown",
   "id": "c819ecbe-b439-45e1-9ca1-784f61e6b114",
   "metadata": {},
   "source": [
    "## **Adım 3**\n",
    "### Alice ile Bob arasında iletişim protokolü devam eder. Alıcı messajı çözer."
   ]
  },
  {
   "cell_type": "code",
   "execution_count": 12,
   "id": "841c84fa-c439-41b3-b582-3c214b6ef413",
   "metadata": {},
   "outputs": [
    {
     "name": "stdout",
     "output_type": "stream",
     "text": [
      "Inverse of K(mod): \n",
      "[[12.+21.j  7.+17.j]\n",
      " [ 2. +3.j 12.+21.j]]\n",
      "Decrypted message: CANAKKALEONSEKIZ\n"
     ]
    }
   ],
   "source": [
    "dec_message = decrypt_message(K, modulo, enc_message)\n",
    "print(f\"Decrypted message: {dec_message}\")"
   ]
  },
  {
   "cell_type": "markdown",
   "id": "2db51655-dae1-4789-8d23-cc988ebec273",
   "metadata": {},
   "source": [
    "### Gönderilen ile çözülen mesaj karşılaştırılır."
   ]
  },
  {
   "cell_type": "code",
   "execution_count": 13,
   "id": "bf5415b3-4176-46d9-9bea-d249c7b108fc",
   "metadata": {},
   "outputs": [
    {
     "name": "stdout",
     "output_type": "stream",
     "text": [
      "Sended message: CANAKKALEONSEKIZ \n",
      "Decrypted message: CANAKKALEONSEKIZ\n"
     ]
    }
   ],
   "source": [
    "message = message.upper()\n",
    "message = message.replace(\" \", \"\")\n",
    "print(f\"Sended message: {message} \\nDecrypted message: {dec_message}\")"
   ]
  },
  {
   "cell_type": "markdown",
   "id": "9879716b-f001-4e91-8921-e290d66857fe",
   "metadata": {},
   "source": [
    "### **NOT**\n",
    "#### Mesajda boşluk gibi beyaz karakterler dışında çift olması gerekiyor. Tek olduğu durumda sona bir karakter ekliyor kod. K matrisi determinantı olan 2x2 karmaşık sayı matrsisi olmalıdır."
   ]
  }
 ],
 "metadata": {
  "kernelspec": {
   "display_name": "Python 3 (ipykernel)",
   "language": "python",
   "name": "python3"
  },
  "language_info": {
   "codemirror_mode": {
    "name": "ipython",
    "version": 3
   },
   "file_extension": ".py",
   "mimetype": "text/x-python",
   "name": "python",
   "nbconvert_exporter": "python",
   "pygments_lexer": "ipython3",
   "version": "3.12.2"
  }
 },
 "nbformat": 4,
 "nbformat_minor": 5
}
