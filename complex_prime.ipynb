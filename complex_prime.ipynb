{
 "cells": [
  {
   "cell_type": "code",
   "execution_count": 1,
   "id": "bb266412-4308-407d-922c-519b779f2c8b",
   "metadata": {},
   "outputs": [],
   "source": [
    "from sympy import isprime\n",
    "import matplotlib.pyplot as plt\n",
    "import numpy as np\n",
    "import random\n",
    "\n",
    "def isgaussprime(z: complex):\n",
    "    a, b = int(z.real), int(z.imag)\n",
    "    if a*b != 0:\n",
    "        return isprime(a**2 + b**2)\n",
    "    else:\n",
    "        c = abs(a+b)\n",
    "        return isprime(c) and c % 4 == 3\n",
    "\n",
    "def gaussian_prime_inrange(n):\n",
    "    gauss_pri = []\n",
    "    for a in range(-n,n+1):\n",
    "        for b in range(-n,n+1):\n",
    "            gaussian_int = a + 1j*b\n",
    "            if isgaussprime(gaussian_int):\n",
    "                gauss_pri.append(gaussian_int)\n",
    "    return gauss_pri\n",
    "\n",
    "def ComplexModul(a,b):\n",
    "    x = a/b\n",
    "    x = round(x.real) + (round(x.imag)*1j)\n",
    "    z = x*b\n",
    "    r=a-z\n",
    "    return r\n",
    "\n"
   ]
  },
  {
   "cell_type": "code",
   "execution_count": 2,
   "id": "c7d48fa2-d7a5-4407-9b88-7577016aa1d0",
   "metadata": {},
   "outputs": [
    {
     "data": {
      "text/plain": [
       "-1j"
      ]
     },
     "execution_count": 2,
     "metadata": {},
     "output_type": "execute_result"
    }
   ],
   "source": [
    "ComplexModul(7+8j,1+2j)"
   ]
  },
  {
   "cell_type": "code",
   "execution_count": 3,
   "id": "c83c0df5-ba0e-47e5-9fd9-6166caf46df1",
   "metadata": {},
   "outputs": [],
   "source": [
    "gaussain_pri_array = gaussian_prime_inrange(20)\n"
   ]
  },
  {
   "cell_type": "code",
   "execution_count": 4,
   "id": "3839fa84-610c-4ee3-a1f8-be2e6906e4e1",
   "metadata": {},
   "outputs": [
    {
     "name": "stdout",
     "output_type": "stream",
     "text": [
      "a -151\n",
      "b -24\n",
      "Alice chooses Gaussian Primes:  ((-4+9j), (4+15j))\n",
      "Calculated Alfa:  (-151-24j)\n",
      "Phi(alfa):  (-150-48j)\n",
      "Özel Anhatr: (-0.08250551876379691-0.026490066225165563j)\n"
     ]
    }
   ],
   "source": [
    "\n",
    "gp1=random.choice(gaussain_pri_array)\n",
    "gp2=random.choice(gaussain_pri_array)\n",
    "e=random.choice(gaussain_pri_array)\n",
    "gps = (gp1, gp2)\n",
    "alfa = gp1*gp2\n",
    "a, b = int(alfa.real), int(alfa.imag)\n",
    "e=abs(a*b)\n",
    "print(\"a\",a)\n",
    "print(\"b\",b)\n",
    "print(\"Alice chooses Gaussian Primes: \", gps)\n",
    "print(\"Calculated Alfa: \", alfa)\n",
    "phi_alfa = (gp1-1) * (gp2-1)\n",
    "print(\"Phi(alfa): \", phi_alfa)\n",
    "hk=(2*phi_alfa+1)/e #Gizli anahtar\n",
    "print(\"Özel Anhatr:\",hk) "
   ]
  },
  {
   "cell_type": "code",
   "execution_count": 5,
   "id": "63653ef2-8c95-4af0-b386-b828c8d0dfde",
   "metadata": {},
   "outputs": [
    {
     "name": "stdout",
     "output_type": "stream",
     "text": [
      "5338118804780857537\n",
      "Açık Mesaj= (0.011843291784144378-0.025925750236380597j)\n"
     ]
    }
   ],
   "source": [
    "M=89\n",
    "c=np.power(M,e) #Şifreli mesaj\n",
    "print(c)\n",
    "acikmesaj=np.power(c,hk)\n",
    "print(\"Açık Mesaj=\",acikmesaj)\n",
    "\n"
   ]
  },
  {
   "cell_type": "code",
   "execution_count": null,
   "id": "73e7eb2c-54ff-48ad-8177-e343cb24ef34",
   "metadata": {},
   "outputs": [],
   "source": []
  }
 ],
 "metadata": {
  "kernelspec": {
   "display_name": "Python 3 (ipykernel)",
   "language": "python",
   "name": "python3"
  },
  "language_info": {
   "codemirror_mode": {
    "name": "ipython",
    "version": 3
   },
   "file_extension": ".py",
   "mimetype": "text/x-python",
   "name": "python",
   "nbconvert_exporter": "python",
   "pygments_lexer": "ipython3",
   "version": "3.12.2"
  }
 },
 "nbformat": 4,
 "nbformat_minor": 5
}
