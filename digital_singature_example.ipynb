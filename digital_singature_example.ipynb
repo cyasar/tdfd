{
 "cells": [
  {
   "cell_type": "markdown",
   "id": "17653394",
   "metadata": {},
   "source": [
    "## Digital Signature Schemes over the Ring of Gaussian Integers\n"
   ]
  },
  {
   "cell_type": "code",
   "execution_count": 1,
   "id": "8e6dc91b",
   "metadata": {},
   "outputs": [],
   "source": [
    "import numpy as np\n",
    "import struct\n",
    "\n",
    "# Imaginary number i\n",
    "img = complex(0+1j)"
   ]
  },
  {
   "cell_type": "code",
   "execution_count": 2,
   "id": "bc8d79ae",
   "metadata": {},
   "outputs": [
    {
     "data": {
      "text/plain": [
       "(-1-4j)"
      ]
     },
     "execution_count": 2,
     "metadata": {},
     "output_type": "execute_result"
    }
   ],
   "source": [
    "def mod_complex(z, m):  \n",
    "    \"\"\"\n",
    "    Calculates the a+bi(modk).\n",
    "    z: Complex value\n",
    "    m: Module\n",
    "    \"\"\"\n",
    "    \n",
    "    x = np.around((z.real/m)%1*m-m)\n",
    "    y = np.around((z.imag/m)%1*m-m)\n",
    "    r = x + y*img\n",
    "    return r\n",
    "mod_complex(3+4j, 4)"
   ]
  },
  {
   "cell_type": "code",
   "execution_count": 3,
   "id": "eef96927",
   "metadata": {},
   "outputs": [
    {
     "name": "stdout",
     "output_type": "stream",
     "text": [
      "(-3-4j)\n"
     ]
    }
   ],
   "source": [
    "def split_mod(b, s, m):\n",
    "    \"\"\"\n",
    "    Calculates the (a+bi)^x(modek).\n",
    "    b: Complex value\n",
    "    s: Upper\n",
    "    m: Module\n",
    "    \"\"\"\n",
    "    \n",
    "    sseed = list()\n",
    "    lseed = list()\n",
    "    \n",
    "    k = int(np.log2(s))\n",
    "    while s>0:\n",
    "        v = int(np.log2(s))\n",
    "        lseed.append(v)\n",
    "        s = s-np.power(2, lseed[-1])\n",
    "    \n",
    "    seed = b\n",
    "    sseed.append(seed)\n",
    "    \n",
    "    for i in range(k):\n",
    "        seed = mod_complex(np.power(seed, 2), m)\n",
    "        sseed.append(seed)\n",
    " \n",
    "    z = 1\n",
    "    for seed in lseed:\n",
    "        z *= sseed[seed]\n",
    "    z = mod_complex(z, m)\n",
    "    return z\n",
    "print(split_mod(3+2j,4,4))"
   ]
  },
  {
   "cell_type": "code",
   "execution_count": 4,
   "id": "bf09250e",
   "metadata": {},
   "outputs": [],
   "source": [
    "def calc_mod_equal_one(b, m, v):\n",
    "    \"\"\"\n",
    "    Calculates the b*h=v(mod m).\n",
    "    \n",
    "    Note:\n",
    "    -----------------------------\n",
    "    This method uses quick scan up to module+1. \n",
    "    It may not perform if b*h>2^^64.\n",
    "    \"\"\"\n",
    "    \n",
    "    for i in range(int(m)+1):\n",
    "        if b*i%m == v:\n",
    "            return i"
   ]
  },
  {
   "cell_type": "code",
   "execution_count": null,
   "id": "6f6e8362-b3c0-4f07-ba1c-8e444a139ae7",
   "metadata": {},
   "outputs": [],
   "source": []
  },
  {
   "cell_type": "code",
   "execution_count": 5,
   "id": "c54b5209",
   "metadata": {},
   "outputs": [],
   "source": [
    "def N(comp_val):\n",
    "    \"\"\"\n",
    "    N function which translates complex(a + bi) to (a^2 + b^2).\n",
    "    \"\"\"\n",
    "    \n",
    "    if not isinstance(comp_val, complex):\n",
    "        print(\"Warn: N is not complex value. Making it complex.\")\n",
    "        comp_val = complex(comp_val + 0j)\n",
    "    return int(np.power(comp_val.real, 2) + np.power(comp_val.imag, 2))\n"
   ]
  },
  {
   "cell_type": "markdown",
   "id": "bc580be5",
   "metadata": {},
   "source": [
    "## Prepare\n",
    "Alice wants to sing a message.\n",
    "\n",
    "Suppose H(m)=2022 as below."
   ]
  },
  {
   "cell_type": "code",
   "execution_count": 6,
   "id": "f1769b6d",
   "metadata": {},
   "outputs": [
    {
     "name": "stdout",
     "output_type": "stream",
     "text": [
      "Alice's Hashed Message:  2022\n"
     ]
    }
   ],
   "source": [
    "# Alice message and hashed message. \n",
    "hashed_message = 2022\n",
    "print(\"Alice's Hashed Message: \", hashed_message)"
   ]
  },
  {
   "cell_type": "markdown",
   "id": "1bae0c5d",
   "metadata": {},
   "source": [
    "## Alice Step 1\n",
    "Alice chooses gaussian primes, alfa and calculates the Phi(alfa)."
   ]
  },
  {
   "cell_type": "code",
   "execution_count": 7,
   "id": "8cd061e4",
   "metadata": {},
   "outputs": [
    {
     "name": "stdout",
     "output_type": "stream",
     "text": [
      "Alice chooses Gaussian Primes:  (11, 19)\n",
      "Calculated Alfa:  209\n",
      "Phi(alfa):  43200\n"
     ]
    }
   ],
   "source": [
    "gaussian_prime_1 = 11\n",
    "gaussian_prime_2 = 19\n",
    "gaussian_primes = (gaussian_prime_1, gaussian_prime_2)\n",
    "\n",
    "alfa = gaussian_prime_1*gaussian_prime_2\n",
    "print(\"Alice chooses Gaussian Primes: \", gaussian_primes)\n",
    "print(\"Calculated Alfa: \", alfa)\n",
    "\n",
    "phi_alfa = (N(complex(gaussian_prime_1+0j))-1) * (N(complex(gaussian_prime_2+0j))-1)\n",
    "print(\"Phi(alfa): \", phi_alfa)"
   ]
  },
  {
   "cell_type": "markdown",
   "id": "ea0cb788",
   "metadata": {},
   "source": [
    "## Alice Step 2\n",
    "Alice chooses a gaussian integer Beta and a random integer A.  "
   ]
  },
  {
   "cell_type": "code",
   "execution_count": 8,
   "id": "d2c70bcf",
   "metadata": {},
   "outputs": [
    {
     "name": "stdout",
     "output_type": "stream",
     "text": [
      "Alice chooses Gaussian Integer Beta:  (7+13j)\n",
      "Alice chooses a random positive integer A:  331\n",
      "Module of a-Raised-Beta:  (-125-53j)\n"
     ]
    }
   ],
   "source": [
    "gaussian_comp = np.complex256(7 + 13j)\n",
    "random_positive_integer = 331\n",
    "z = split_mod(gaussian_comp, random_positive_integer, alfa)\n",
    "print(\"Alice chooses Gaussian Integer Beta: \", gaussian_comp)\n",
    "print(\"Alice chooses a random positive integer A: \", random_positive_integer)\n",
    "print(\"Module of a-Raised-Beta: \", z)"
   ]
  },
  {
   "cell_type": "markdown",
   "id": "79eb77c4",
   "metadata": {},
   "source": [
    "## Alice Step 3\n",
    "Alice selects an encryption exponent e."
   ]
  },
  {
   "cell_type": "code",
   "execution_count": 9,
   "id": "5afbaa1d",
   "metadata": {},
   "outputs": [
    {
     "name": "stdout",
     "output_type": "stream",
     "text": [
      "Alice chooses encryption exponent:  1391\n",
      "Module of e-Raised-Beta:  (-92-46j)\n"
     ]
    }
   ],
   "source": [
    "e = 1391\n",
    "print(\"Alice chooses encryption exponent: \", e)\n",
    "eta = split_mod(gaussian_comp, e, alfa)\n",
    "\n",
    "print(\"Module of e-Raised-Beta: \", eta)"
   ]
  },
  {
   "cell_type": "markdown",
   "id": "2319eee6",
   "metadata": {},
   "source": [
    "## Alice Step 4\n",
    "Alice finds the unique integer h value."
   ]
  },
  {
   "cell_type": "code",
   "execution_count": 10,
   "id": "1ed898e0",
   "metadata": {},
   "outputs": [
    {
     "name": "stdout",
     "output_type": "stream",
     "text": [
      "Unique integer h:  15311\n"
     ]
    }
   ],
   "source": [
    "h = calc_mod_equal_one(e, phi_alfa, 1)\n",
    "print(\"Unique integer h: \", h)"
   ]
  },
  {
   "cell_type": "markdown",
   "id": "abfba136",
   "metadata": {},
   "source": [
    "## Alice Step 5\n",
    "Alice calculates s value and assembles his public key and signed message."
   ]
  },
  {
   "cell_type": "code",
   "execution_count": 11,
   "id": "c02bd441",
   "metadata": {},
   "outputs": [
    {
     "name": "stdout",
     "output_type": "stream",
     "text": [
      "Alice computes s:  14101\n",
      "Alice public key:  (209, (7+13j), (-125-53j))\n",
      "Signed message:  (2022, 14101, (-92-46j))\n"
     ]
    }
   ],
   "source": [
    "s = h*(hashed_message-random_positive_integer)%phi_alfa\n",
    "print(\"Alice computes s: \", s)\n",
    "\n",
    "alice_public_key = (alfa, gaussian_comp, z)\n",
    "signed_message = (hashed_message, s, eta)\n",
    "print(\"Alice public key: \", alice_public_key)\n",
    "print(\"Signed message: \", signed_message)"
   ]
  },
  {
   "cell_type": "markdown",
   "id": "2e410408",
   "metadata": {},
   "source": [
    "# Bob Step 1 and 2\n",
    "Suppose Bob downloads the Alice's public key.\n",
    "\n",
    "With using downloaded key Bob computes following."
   ]
  },
  {
   "cell_type": "code",
   "execution_count": 12,
   "id": "50f92101",
   "metadata": {},
   "outputs": [
    {
     "name": "stdout",
     "output_type": "stream",
     "text": [
      "Bob calculates:  (-81-145j)\n",
      "Bob calculates verify value:  (-68-154j)\n"
     ]
    }
   ],
   "source": [
    "c = split_mod(eta, s, alfa)\n",
    "verify_val = mod_complex(z*c, alfa) \n",
    "\n",
    "# Eta and s values from signed message\n",
    "# alfa, z from Alice's pubic key.   \n",
    "print(\"Bob calculates: \", c)\n",
    "print(\"Bob calculates verify value: \", verify_val)"
   ]
  },
  {
   "cell_type": "markdown",
   "id": "5e3bd1ad",
   "metadata": {},
   "source": [
    "## Bob Step 3\n",
    "Bob checks the signature."
   ]
  },
  {
   "cell_type": "code",
   "execution_count": 13,
   "id": "7e1a11dc",
   "metadata": {},
   "outputs": [
    {
     "name": "stdout",
     "output_type": "stream",
     "text": [
      "Bob verifies the signature as (-68-154j) equals (-68-154j).\n"
     ]
    }
   ],
   "source": [
    "mod_of_hash_raised_beta = split_mod(gaussian_comp, hashed_message, alfa)\n",
    "\n",
    "if mod_of_hash_raised_beta == verify_val:\n",
    "    print(f\"Bob verifies the signature as {mod_of_hash_raised_beta} equals {verify_val}.\")\n",
    "else:\n",
    "    print(f\"Bob cannot verify the signature as {mod_of_hash_raised_beta} not equals {verify_val}.\")"
   ]
  },
  {
   "cell_type": "code",
   "execution_count": null,
   "id": "2233fd1b",
   "metadata": {},
   "outputs": [],
   "source": []
  },
  {
   "cell_type": "code",
   "execution_count": null,
   "id": "555d3ed5-17d3-4ef2-9fca-ddf033937063",
   "metadata": {},
   "outputs": [],
   "source": []
  }
 ],
 "metadata": {
  "kernelspec": {
   "display_name": "Python 3 (ipykernel)",
   "language": "python",
   "name": "python3"
  },
  "language_info": {
   "codemirror_mode": {
    "name": "ipython",
    "version": 3
   },
   "file_extension": ".py",
   "mimetype": "text/x-python",
   "name": "python",
   "nbconvert_exporter": "python",
   "pygments_lexer": "ipython3",
   "version": "3.12.2"
  }
 },
 "nbformat": 4,
 "nbformat_minor": 5
}
