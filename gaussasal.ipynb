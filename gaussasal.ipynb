{
 "cells": [
  {
   "cell_type": "code",
   "execution_count": 1,
   "id": "5f831dcc-b596-443c-ba02-9089106ae994",
   "metadata": {},
   "outputs": [
    {
     "name": "stdout",
     "output_type": "stream",
     "text": [
      "Gauss Asalmı: False\n"
     ]
    },
    {
     "data": {
      "image/png": "[encoded data removed]",
      "text/plain": [
       "<Figure size 432x288 with 1 Axes>"
      ]
     },
     "metadata": {
      "needs_background": "light"
     },
     "output_type": "display_data"
    }
   ],
   "source": [
    "from sympy import isprime\n",
    "import matplotlib.pyplot as plt\n",
    "\n",
    "def isgaussprime(z: complex):\n",
    "    a, b = int(z.real), int(z.imag)\n",
    "    if a*b != 0:\n",
    "        return isprime(a**2 + b**2)\n",
    "    else:\n",
    "        c = abs(a+b)\n",
    "        return isprime(c) and c % 4 == 3\n",
    "print(\"Gauss Asalmı:\",isgaussprime(5))\n",
    "    \n",
    "def connect(z1: complex, z2: complex):\n",
    "    plt.plot([z1.real, z2.real], [z1.imag, z2.imag], 'b')\n",
    "    \n",
    "#start = 127 + 130j\n",
    "#start =5 +2j\n",
    "#start=pow(31- 4j,2)\n",
    "start=19 + 10j\n",
    "step = 1\n",
    "z = start\n",
    "next = None\n",
    "\n",
    "while next != start:\n",
    "    next = z + step\n",
    "    connect(z, next)\n",
    "    if isgaussprime(next):\n",
    "        step *= 1j\n",
    "    z = next\n",
    "\n",
    "#plt.axes().set_aspect(1)    \n",
    "plt.show()"
   ]
  },
  {
   "cell_type": "code",
   "execution_count": null,
   "id": "a9fde53c-fdce-4086-8728-66497d6ac371",
   "metadata": {},
   "outputs": [],
   "source": []
  },
  {
   "cell_type": "code",
   "execution_count": null,
   "id": "75a0649c-15d4-4f1f-9bc9-8dbfbbe3085b",
   "metadata": {},
   "outputs": [],
   "source": []
  }
 ],
 "metadata": {
  "kernelspec": {
   "display_name": "Python 3 (ipykernel)",
   "language": "python",
   "name": "python3"
  },
  "language_info": {
   "codemirror_mode": {
    "name": "ipython",
    "version": 3
   },
   "file_extension": ".py",
   "mimetype": "text/x-python",
   "name": "python",
   "nbconvert_exporter": "python",
   "pygments_lexer": "ipython3",
   "version": "3.12.2"
  }
 },
 "nbformat": 4,
 "nbformat_minor": 5
}
