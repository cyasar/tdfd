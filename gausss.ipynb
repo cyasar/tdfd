{
 "cells": [
  {
   "cell_type": "code",
   "execution_count": 2,
   "id": "e96b253b-6881-48f5-94cb-9c304c02e597",
   "metadata": {},
   "outputs": [
    {
     "data": {
      "image/png": "[encoded data removed]",
      "text/plain": [
       "<Figure size 432x288 with 1 Axes>"
      ]
     },
     "metadata": {
      "needs_background": "light"
     },
     "output_type": "display_data"
    }
   ],
   "source": [
    "from sympy import isprime\n",
    "import matplotlib.pyplot as plt\n",
    "\n",
    "def isgaussprime(z: complex):\n",
    "    a, b = int(z.real), int(z.imag)\n",
    "    if a*b != 0:\n",
    "        return isprime(a**2 + b**2)\n",
    "    else:\n",
    "        c = abs(a+b)\n",
    "        return isprime(c) and c % 4 == 3\n",
    "\n",
    "def connect(z1: complex, z2: complex):\n",
    "    plt.plot([z1.real, z2.real], [z1.imag, z2.imag], 'b')\n",
    "    \n",
    "#start = 127 + 130j\n",
    "start = 11 + 6j\n",
    "step = 1\n",
    "z = start\n",
    "next = None\n",
    "\n",
    "while next != start:\n",
    "    next = z + step\n",
    "    #print(next,z,step)\n",
    "    connect(z, next)\n",
    "    if isgaussprime(next):\n",
    "        step *= 1j\n",
    "        #print(next,step)\n",
    "    z = next\n",
    "\n",
    "#plt.axes().set_aspect(1)    \n",
    "#print((start)**2)\n",
    "plt.show()"
   ]
  },
  {
   "cell_type": "code",
   "execution_count": null,
   "id": "bce88ce5-363a-4cd2-9a6a-e98ae5ea0974",
   "metadata": {},
   "outputs": [],
   "source": []
  }
 ],
 "metadata": {
  "kernelspec": {
   "display_name": "Python 3",
   "language": "python",
   "name": "python3"
  },
  "language_info": {
   "codemirror_mode": {
    "name": "ipython",
    "version": 3
   },
   "file_extension": ".py",
   "mimetype": "text/x-python",
   "name": "python",
   "nbconvert_exporter": "python",
   "pygments_lexer": "ipython3",
   "version": "3.8.5"
  }
 },
 "nbformat": 4,
 "nbformat_minor": 5
}
