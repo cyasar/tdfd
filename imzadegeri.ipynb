{
 "cells": [
  {
   "cell_type": "code",
   "execution_count": 1,
   "id": "23b860ab-d522-4867-826e-c7c3b50d423a",
   "metadata": {},
   "outputs": [
    {
     "name": "stderr",
     "output_type": "stream",
     "text": [
      "No measurements in circuit \"circuit-88\", classical register will remain all zeros.\n"
     ]
    },
    {
     "name": "stdout",
     "output_type": "stream",
     "text": [
      "Job Status: job has successfully run\n",
      "Job Status: job has successfully run\n",
      "{'00': 1}\n"
     ]
    }
   ],
   "source": [
    "from qiskit import *\n",
    "from qiskit.tools.monitor import job_monitor\n",
    "\n",
    "# Bell durumları oluşturma\n",
    "q = QuantumRegister(2, 'q')\n",
    "c = ClassicalRegister(2, 'c')\n",
    "circuit = QuantumCircuit(q, c)\n",
    "circuit.h(q[0])\n",
    "circuit.cx(q[0], q[1])\n",
    "circuit.barrier()\n",
    "\n",
    "# Bell durumları gönderme\n",
    "backend = BasicAer.get_backend('qasm_simulator')\n",
    "job = execute(circuit, backend, shots=1)\n",
    "job_monitor(job)\n",
    "\n",
    "# Bell durumları ölçme\n",
    "circuit.measure(q, c)\n",
    "circuit.barrier()\n",
    "\n",
    "# Ölçüm sonuçlarının karşılaştırılması\n",
    "job = execute(circuit, backend, shots=1)\n",
    "job_monitor(job)\n",
    "result = job.result()\n",
    "counts = result.get_counts()\n",
    "print(counts)\n"
   ]
  },
  {
   "cell_type": "code",
   "execution_count": 2,
   "id": "3d63c643-f08d-4cb0-9093-f4b6175d4af5",
   "metadata": {},
   "outputs": [
    {
     "name": "stderr",
     "output_type": "stream",
     "text": [
      "No measurements in circuit \"circuit-93\", classical register will remain all zeros.\n"
     ]
    },
    {
     "name": "stdout",
     "output_type": "stream",
     "text": [
      "Job Status: job has successfully run\n",
      "Job Status: job has successfully run\n",
      "Ölçüm sonuçları: {'00': 1}\n",
      "Alice'in anahtarı: 0\n",
      "Bob'un anahtarı: 0\n",
      "Alice'in imza değeri: 5feceb66ffc86f38d952786c6d696c79c2dbc239dd4e91b46729d73a27fb57e9\n",
      "Bob'un imza değeri: 5feceb66ffc86f38d952786c6d696c79c2dbc239dd4e91b46729d73a27fb57e9\n"
     ]
    }
   ],
   "source": [
    "from qiskit import *\n",
    "from qiskit.tools.monitor import job_monitor\n",
    "import hashlib\n",
    "\n",
    "# Bell durumları oluşturma\n",
    "q = QuantumRegister(2, 'q')\n",
    "c = ClassicalRegister(2, 'c')\n",
    "circuit = QuantumCircuit(q, c)\n",
    "circuit.h(q[0])\n",
    "circuit.cx(q[0], q[1])\n",
    "circuit.barrier()\n",
    "\n",
    "# Bell durumları gönderme\n",
    "backend = BasicAer.get_backend('qasm_simulator')\n",
    "job = execute(circuit, backend, shots=1)\n",
    "job_monitor(job)\n",
    "\n",
    "# Bell durumları ölçme\n",
    "circuit.measure(q, c)\n",
    "circuit.barrier()\n",
    "\n",
    "# Ölçüm sonuçlarının karşılaştırılması\n",
    "job = execute(circuit, backend, shots=1)\n",
    "job_monitor(job)\n",
    "result = job.result()\n",
    "counts = result.get_counts()\n",
    "print(\"Ölçüm sonuçları:\", counts)\n",
    "\n",
    "# Anahtarların hesaplanması\n",
    "alice_key = \"\"\n",
    "bob_key = \"\"\n",
    "for key in counts.keys():\n",
    "    if key[0] == key[1]:\n",
    "        alice_key += key[0]\n",
    "        bob_key += key[1]\n",
    "\n",
    "print(\"Alice'in anahtarı:\", alice_key)\n",
    "print(\"Bob'un anahtarı:\", bob_key)\n",
    "\n",
    "# İmza değerlerinin hesaplanması\n",
    "alice_signature = hashlib.sha256(alice_key.encode('utf-8')).hexdigest()\n",
    "bob_signature = hashlib.sha256(bob_key.encode('utf-8')).hexdigest()\n",
    "\n",
    "print(\"Alice'in imza değeri:\", alice_signature)\n",
    "print(\"Bob'un imza değeri:\", bob_signature)\n"
   ]
  },
  {
   "cell_type": "code",
   "execution_count": 3,
   "id": "02306713-f9b2-40f6-aeb4-e735605f0005",
   "metadata": {},
   "outputs": [
    {
     "name": "stderr",
     "output_type": "stream",
     "text": [
      "No measurements in circuit \"circuit-98\", classical register will remain all zeros.\n"
     ]
    },
    {
     "name": "stdout",
     "output_type": "stream",
     "text": [
      "Job Status: job has successfully run\n",
      "Job Status: job has successfully run\n",
      "Ölçüm sonuçları: {'11': 1}\n",
      "Alice'in anahtarı: 1\n",
      "Bob'un anahtarı: 1\n",
      "Alice'in imza değeri: 6b86b273ff34fce19d6b804eff5a3f5747ada4eaa22f1d49c01e52ddb7875b4b\n",
      "Bob'un imza değeri: 6b86b273ff34fce19d6b804eff5a3f5747ada4eaa22f1d49c01e52ddb7875b4b\n",
      "Alice'in açık anahtarı: (187, 7)\n",
      "Alice'in gizli anahtarı: (187, 23)\n",
      "Bob'un açık anahtarı: (187, 7)\n",
      "Bob'un gizli anahtarı: (187, 23)\n"
     ]
    }
   ],
   "source": [
    "from qiskit import *\n",
    "from qiskit.tools.monitor import job_monitor\n",
    "import hashlib\n",
    "\n",
    "# Bell durumları oluşturma\n",
    "q = QuantumRegister(2, 'q')\n",
    "c = ClassicalRegister(2, 'c')\n",
    "circuit = QuantumCircuit(q, c)\n",
    "circuit.h(q[0])\n",
    "circuit.cx(q[0], q[1])\n",
    "circuit.barrier()\n",
    "\n",
    "# Bell durumları gönderme\n",
    "backend = BasicAer.get_backend('qasm_simulator')\n",
    "job = execute(circuit, backend, shots=1)\n",
    "job_monitor(job)\n",
    "\n",
    "# Bell durumları ölçme\n",
    "circuit.measure(q, c)\n",
    "circuit.barrier()\n",
    "\n",
    "# Ölçüm sonuçlarının karşılaştırılması\n",
    "job = execute(circuit, backend, shots=1)\n",
    "job_monitor(job)\n",
    "result = job.result()\n",
    "counts = result.get_counts()\n",
    "print(\"Ölçüm sonuçları:\", counts)\n",
    "\n",
    "# Anahtarların hesaplanması\n",
    "alice_key = \"\"\n",
    "bob_key = \"\"\n",
    "for key in counts.keys():\n",
    "    if key[0] == key[1]:\n",
    "        alice_key += key[0]\n",
    "        bob_key += key[1]\n",
    "\n",
    "print(\"Alice'in anahtarı:\", alice_key)\n",
    "print(\"Bob'un anahtarı:\", bob_key)\n",
    "\n",
    "# İmza değerlerinin hesaplanması\n",
    "alice_signature = hashlib.sha256(alice_key.encode('utf-8')).hexdigest()\n",
    "bob_signature = hashlib.sha256(bob_key.encode('utf-8')).hexdigest()\n",
    "\n",
    "print(\"Alice'in imza değeri:\", alice_signature)\n",
    "print(\"Bob'un imza değeri:\", bob_signature)\n",
    "\n",
    "# Açık anahtarlı şifreleme protokolü uygulanması\n",
    "n = 1024\n",
    "p = 11\n",
    "q = 17\n",
    "e = 7\n",
    "\n",
    "# Alice'in açık ve gizli anahtarlarının hesaplanması\n",
    "alice_n = p * q\n",
    "alice_phi_n = (p - 1) * (q - 1)\n",
    "alice_d = pow(e, -1, alice_phi_n)\n",
    "alice_public_key = (alice_n, e)\n",
    "alice_private_key = (alice_n, alice_d)\n",
    "\n",
    "print(\"Alice'in açık anahtarı:\", alice_public_key)\n",
    "print(\"Alice'in gizli anahtarı:\", alice_private_key)\n",
    "\n",
    "# Bob'un açık ve gizli anahtarlarının hesaplanması\n",
    "bob_n = alice_n\n",
    "bob_phi_n = alice_phi_n\n",
    "bob_d = alice_d\n",
    "bob_public_key = alice_public_key\n",
    "bob_private_key = alice_private_key\n",
    "\n",
    "print(\"Bob'un açık anahtarı:\", bob_public_key)\n",
    "print(\"Bob'un gizli anahtarı:\", bob_private_key)\n"
   ]
  },
  {
   "cell_type": "code",
   "execution_count": null,
   "id": "8f3f43e3-753b-4cbc-a49d-4d7bf5499c45",
   "metadata": {},
   "outputs": [],
   "source": []
  }
 ],
 "metadata": {
  "kernelspec": {
   "display_name": "Python 3 (ipykernel)",
   "language": "python",
   "name": "python3"
  },
  "language_info": {
   "codemirror_mode": {
    "name": "ipython",
    "version": 3
   },
   "file_extension": ".py",
   "mimetype": "text/x-python",
   "name": "python",
   "nbconvert_exporter": "python",
   "pygments_lexer": "ipython3",
   "version": "3.12.2"
  }
 },
 "nbformat": 4,
 "nbformat_minor": 5
}
